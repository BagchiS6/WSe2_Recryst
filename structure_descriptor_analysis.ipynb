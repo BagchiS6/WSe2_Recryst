{
 "cells": [
  {
   "cell_type": "code",
   "execution_count": null,
   "metadata": {},
   "outputs": [],
   "source": [
    "import numpy as np\n",
    "import lammps\n",
    "from lammps import LMP_STYLE_ATOM, LMP_TYPE_ARRAY\n",
    "import matplotlib.pyplot as plt\n",
    "\n",
    "\n",
    "# This a wrapper function and should be used with caution:\n",
    "# Periodic datasets with  lammps-format style atomic is currently supported\n",
    "# Wishlist:- a fitSNAP and LAMMPS-provided descriptor extraction function \n",
    "\n",
    "def compute_bispectrum(lmp_struc, cutfac, rfrac0, twojmax, R, w):\n",
    "    '''\n",
    "    Hyper-parmaters:\n",
    "\n",
    "    cutfac = scale factor applied to all cutoff radii (positive real) : float\n",
    "\n",
    "    rfac0 = parameter in distance to angle conversion (0 < rcutfac < 1) : float\n",
    "\n",
    "    twojmax = band limit for bispectrum components (non-negative integer) : int\n",
    "\n",
    "    R_1, R_2,… = list of cutoff radii, one for each type (distance units) : list\n",
    "\n",
    "    w_1, w_2,… = list of neighbor weights, one for each type : list\n",
    "    \n",
    "    Returns\n",
    "    --------\n",
    "    BiSpec: Bispectrum components for each atoms\n",
    "    '''\n",
    "\n",
    "    lmp = lammps.lammps(cmdargs=['-sc','.lammps_output.txt', '-l', 'None'])\n",
    "    \n",
    "    R_max = max(R)\n",
    "    R = ' '.join(map(str, R))\n",
    "    w = ' '.join(map(str, w))\n",
    "    \n",
    "    \n",
    "    doctring = f\"\"\"\n",
    "    #LAMMPS input file\n",
    "    # ------------------------ INITIALIZATION ----------------------------\n",
    "    processors    * * *\n",
    "    units         metal\n",
    "    dimension    3\n",
    "    boundary    p    p    p\n",
    "    atom_style   atomic\n",
    "    box tilt large\n",
    "    #--------------------------- LAMMPS Data File -------------------------\n",
    "    read_data     {lmp_struc}\n",
    "    mass * 1.0\n",
    "    #--------------------------- DUMMY FORCE_FIELD -------------------------\n",
    "    pair_style      zero {cutfac*R_max*2}\n",
    "    pair_coeff      * *  \n",
    "    \n",
    "    \"\"\"\n",
    "    try:\n",
    "        lmp.commands_string(doctring)\n",
    "    except Exception as e:\n",
    "        raise RuntimeError(f'LAMMPS: {e}\\n')\n",
    "\n",
    "    #-------- Compute SNAP descriptors ---------------------        \n",
    "    lmp.command(f'compute BiSpec all sna/atom {cutfac} {rfrac0} {twojmax} {R} {w} chem 2 0 1 ')\n",
    "    \n",
    "    try:\n",
    "        lmp.command('run 0')\n",
    "    except Exception as e:\n",
    "        raise RuntimeError(f'LAMMPS: {e}\\n')\n",
    "\n",
    "\t#-------- Extract SNAP descriptors ---------------------\n",
    "    Natoms = lmp.get_natoms()\n",
    "    print ((f'Number of atoms in the system: {Natoms}'))\n",
    "    \n",
    "    if twojmax==8:\n",
    "        snap_shape = (Natoms, 55)\n",
    "    elif twojmax==6:\n",
    "        snap_shape = (Natoms, 30)\n",
    "    else:\n",
    "        ValueError(f'Unsupported twojmax value: {twojmax}. Supported values are 6 or 8.')\n",
    "    # data = lmp.extract_compute('BiSpec', LMP_STYLE_ATOM, LMP_TYPE_ARRAY)    \n",
    "    # ptr = ctypes.cast(data, ctypes.POINTER(ctypes.c_double))\n",
    "    # BiSpec = np.ctypeslib.as_array(ptr, shape=snap_shape)\n",
    "    BiSpec = lmp.numpy.extract_compute('BiSpec', LMP_STYLE_ATOM, LMP_TYPE_ARRAY).copy()\n",
    "          \n",
    "    \n",
    "    t = lmp.gather_atoms('type',0,1)\n",
    "    types = np.ctypeslib.as_array(t)\n",
    "    \n",
    "    lmp.close()\n",
    "    \n",
    "    return BiSpec, types\n",
    "\n",
    "\n",
    "def compute_decriptor_PCA(data, num_PC=3):\n",
    "\t\"\"\"\n",
    "\tReduces descriptor dimensions by first standardizing the data and then applying PCA.\n",
    "\t\n",
    "\tReturns\n",
    "\t-------\n",
    "\tx: Principal components\n",
    "\tvariances: Explained variance ratio of the principal components.\n",
    "\t\"\"\"\n",
    "\tfrom sklearn.decomposition import PCA\n",
    "\tfrom sklearn.preprocessing import StandardScaler\n",
    "\t# scaling = StandardScaler()\n",
    "\t# scaling.fit(data)\n",
    "\t# Scaled_data = scaling.transform(data)\n",
    "\tScaled_data = data\n",
    "\tprincipal = PCA(n_components=num_PC)\n",
    "\tprincipal.fit(Scaled_data)\n",
    "\tx = principal.transform(Scaled_data)\n",
    "\tvariances = principal.explained_variance_ratio_\n",
    "\treturn x, variances"
   ]
  },
  {
   "cell_type": "code",
   "execution_count": 2,
   "metadata": {},
   "outputs": [
    {
     "name": "stdout",
     "output_type": "stream",
     "text": [
      "Number of atoms in the system: 216\n",
      "Number of atoms in the system: 432\n",
      "Number of atoms in the system: 216\n",
      "Number of atoms in the system: 432\n",
      "Number of atoms in the system: 432\n",
      "Number of atoms in the system: 432\n"
     ]
    }
   ],
   "source": [
    "\n",
    "files = ['WSe_Structures/2X_1T_uc.lmp', 'WSe_Structures/1600000_2X_1T_1500K_scale.lmp', 'WSe_Structures/2X_2H_uc.lmp', 'WSe_Structures/1600000_2X_1T_1500K_scale1.0476.lmp', 'WSe_Structures/1600000_2X_2H_1500K_scale1.0476.lmp', 'WSe_Structures/1600000_2X_2H_1500K_scale1.lmp']\n",
    "\n",
    "descrptors = {'structure': ['1T', 'recryst_1T_1500K', '2H', 'recryst_2T_1500K_Strain', 'recryst_2H_1500K_Strain', 'recryst_2H_1500K'], 'Values': [], 'PCA': []}\n",
    "\n",
    "for ic, file in enumerate(files):\n",
    "\tbispec_descr, lmp_types = compute_bispectrum(lmp_struc=file, cutfac=1, rfrac0=0.5, twojmax=8, R=[2,2], w=[2,1])\n",
    "\tbispec_descr_metals = bispec_descr[lmp_types==1]\n",
    "\tdescrptors['Values'].append(bispec_descr_metals)\n",
    "\tbispec_descr_metals_pca = compute_decriptor_PCA(bispec_descr_metals, num_PC=50)\n",
    "\tdescrptors['PCA'].append(bispec_descr_metals_pca[0])\n",
    "\t# plt.hist(descrptors['Values'][ic].mean(axis=0), bins=1000, label=descrptors['structure'][ic], alpha=0.5)"
   ]
  },
  {
   "cell_type": "code",
   "execution_count": 3,
   "metadata": {},
   "outputs": [],
   "source": [
    "from sklearn.metrics.pairwise import cosine_similarity"
   ]
  },
  {
   "cell_type": "code",
   "execution_count": null,
   "metadata": {},
   "outputs": [
    {
     "data": {
      "text/plain": [
       "<matplotlib.legend.Legend at 0x321b6e510>"
      ]
     },
     "execution_count": 4,
     "metadata": {},
     "output_type": "execute_result"
    },
    {
     "data": {
      "image/png": "[encoded data removed]",
      "text/plain": [
       "<Figure size 640x480 with 1 Axes>"
      ]
     },
     "metadata": {},
     "output_type": "display_data"
    }
   ],
   "source": [
    "for ic in range(1,6):\n",
    "\tsim = cosine_similarity(np.abs(descrptors['PCA'][0]).mean(axis=0).reshape(1, -1), np.abs(descrptors['PCA'][ic]).mean(axis=0).reshape(1, -1))\n",
    "\tplt.plot(ic, sim, 'o', label=descrptors['structure'][ic])\n",
    "plt.legend()"
   ]
  },
  {
   "cell_type": "code",
   "execution_count": 5,
   "metadata": {},
   "outputs": [
    {
     "data": {
      "text/plain": [
       "array([[0.99999999]])"
      ]
     },
     "execution_count": 5,
     "metadata": {},
     "output_type": "execute_result"
    }
   ],
   "source": [
    "cosine_similarity(np.abs(descrptors['PCA'][0]).mean(axis=0).reshape(1, -1), np.abs(descrptors['PCA'][2]).mean(axis=0).reshape(1, -1))"
   ]
  },
  {
   "cell_type": "code",
   "execution_count": null,
   "metadata": {},
   "outputs": [],
   "source": [
    "plt.plot(ic, sim, label=descrptors['structure'][ic], alpha=0.5)"
   ]
  },
  {
   "cell_type": "code",
   "execution_count": null,
   "metadata": {},
   "outputs": [],
   "source": [
    "ic, sim"
   ]
  },
  {
   "cell_type": "code",
   "execution_count": null,
   "metadata": {},
   "outputs": [],
   "source": []
  }
 ],
 "metadata": {
  "kernelspec": {
   "display_name": "auto_synth",
   "language": "python",
   "name": "python3"
  },
  "language_info": {
   "codemirror_mode": {
    "name": "ipython",
    "version": 3
   },
   "file_extension": ".py",
   "mimetype": "text/x-python",
   "name": "python",
   "nbconvert_exporter": "python",
   "pygments_lexer": "ipython3",
   "version": "3.11.6"
  }
 },
 "nbformat": 4,
 "nbformat_minor": 2
}
