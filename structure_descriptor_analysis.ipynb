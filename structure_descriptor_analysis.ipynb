{
 "cells": [
  {
   "cell_type": "code",
   "execution_count": null,
   "metadata": {},
   "outputs": [],
   "source": [
    "import numpy as np\n",
    "import lammps\n",
    "from lammps import LMP_STYLE_ATOM, LMP_TYPE_ARRAY\n",
    "import ctypes\n",
    "\n",
    "# This a wrapper function and should be used with caution:\n",
    "# Periodic datasets with  lammps-format style atomic is currently supported\n",
    "# Wishlist:- a fitSNAP and LAMMPS-provided descriptor extraction function \n",
    "\n",
    "def SNAP(lmp_struc, cutfac, rfrac0, twojmax, R, w):\n",
    "    '''\n",
    "    Hyper-parmaters:\n",
    "\n",
    "    cutfac = scale factor applied to all cutoff radii (positive real) : float\n",
    "\n",
    "    rfac0 = parameter in distance to angle conversion (0 < rcutfac < 1) : float\n",
    "\n",
    "    twojmax = band limit for bispectrum components (non-negative integer) : int\n",
    "\n",
    "    R_1, R_2,… = list of cutoff radii, one for each type (distance units) : list\n",
    "\n",
    "    w_1, w_2,… = list of neighbor weights, one for each type : list\n",
    "    \n",
    "    Returns\n",
    "    --------\n",
    "    BiSpec: Bispectrum components for each atoms\n",
    "    '''\n",
    "\n",
    "    lmp = lammps.lammps(cmdargs=['-sc','.lammps_output.txt', '-l', 'None'])\n",
    "    \n",
    "    R_max = max(R)\n",
    "    R = ' '.join(map(str, R))\n",
    "    w = ' '.join(map(str, w))\n",
    "    \n",
    "    \n",
    "    doctring = f\"\"\"\n",
    "    #LAMMPS input file\n",
    "    # ------------------------ INITIALIZATION ----------------------------\n",
    "    processors    * * *\n",
    "    units         metal\n",
    "    dimension    3\n",
    "    boundary    p    p    p\n",
    "    atom_style   atomic\n",
    "    box tilt large\n",
    "    #--------------------------- LAMMPS Data File -------------------------\n",
    "    read_data     {lmp_struc}\n",
    "    mass * 1.0\n",
    "    #--------------------------- DUMMY FORCE_FIELD -------------------------\n",
    "    pair_style      zero {cutfac*R_max*2}\n",
    "    pair_coeff      * *  \n",
    "    \n",
    "    \"\"\"\n",
    "    try:\n",
    "        lmp.commands_string(doctring)\n",
    "    except Exception as e:\n",
    "        raise RuntimeError(f'LAMMPS: {e}\\n')\n",
    "\n",
    "    #-------- Compute SNAP descriptors ---------------------        \n",
    "    lmp.command(f'compute BiSpec all sna/atom {cutfac} {rfrac0} {twojmax} {R} {w}')\n",
    "    \n",
    "    try:\n",
    "        lmp.command('run 0')\n",
    "    except Exception as e:\n",
    "        raise RuntimeError(f'LAMMPS: {e}\\n')\n",
    "\n",
    "\t#-------- Extract SNAP descriptors ---------------------\n",
    "    Natoms = lmp.get_natoms()\n",
    "    print ((f'Number of atoms in the system: {Natoms}'))\n",
    "    \n",
    "    if twojmax==8:\n",
    "        snap_shape = (Natoms, 55)\n",
    "    elif twojmax==6:\n",
    "        snap_shape = (Natoms, 30)\n",
    "    else:\n",
    "         ValueError(f'Unsupported twojmax value: {twojmax}. Supported values are 6 or 8.')\n",
    "          \n",
    "    BiSpec = np.ctypeslib.as_array(lmp.extract_compute('BiSpec', LMP_STYLE_ATOM, LMP_TYPE_ARRAY), shape=snap_shape)\n",
    "    t = lmp.gather_atoms('type',0,1)\n",
    "    types = np.ctypeslib.as_array(t)\n",
    "    \n",
    "    lmp.close()\n",
    "    \n",
    "    return BiSpec, types\n",
    "\n",
    "\n",
    "\n",
    "def lammps_minimizer(lmp_struc):\n",
    "\n",
    "        lmp = lammps.lammps(cmdargs=['-sc','.lammps_output.txt'])\n",
    "        \n",
    "        doctring = f\"\"\"\n",
    "        #LAMMPS input file\n",
    "        # ------------------------ INITIALIZATION ----------------------------\n",
    "        processors    * * *\n",
    "        units         real\n",
    "        dimension    3\n",
    "        boundary    p    p    p\n",
    "        atom_style   charge\n",
    "        box tilt large\n",
    "        #--------------------------- LAMMPS Data File -------------------------\n",
    "        read_data     {lmp_struc}\n",
    "        mass * 1.0\n",
    "        #--------------------------- Reax FORCE_FIELD -------------------------\n",
    "        pair_style reax/c NULL safezone 16.0 mincap 2400\n",
    "        pair_coeff * * ffield_start Mo S\n",
    "        fix 1 all qeq/reax 1 0.0 10.0 1.0e-6 reax/c\n",
    "        \"\"\"\n",
    "        try:\n",
    "                lmp.commands_string(doctring)\n",
    "        except Exception as e:\n",
    "                raise RuntimeError(f'LAMMPS: {e}\\n')\n",
    "\n",
    "        lmp.command('minimize 1e-5 1e-4 10000 10000')\n",
    "        lmp.command(f'write_data min_{lmp_struc}')\n",
    "        pe = lmp.get_thermo(\"pe\")\n",
    "        lmp.close()\n",
    "\n",
    "        return pe"
   ]
  },
  {
   "cell_type": "code",
   "execution_count": 22,
   "metadata": {},
   "outputs": [
    {
     "name": "stdout",
     "output_type": "stream",
     "text": [
      "Number of atoms in the system: 216\n"
     ]
    },
    {
     "ename": "ValueError",
     "evalue": "'&<d' is not a valid PEP 3118 buffer format string",
     "output_type": "error",
     "traceback": [
      "\u001b[0;31m---------------------------------------------------------------------------\u001b[0m",
      "\u001b[0;31mNotImplementedError\u001b[0m                       Traceback (most recent call last)",
      "File \u001b[0;32m~/anaconda3/envs/auto_synth/lib/python3.11/site-packages/numpy/core/_internal.py:654\u001b[0m, in \u001b[0;36m_dtype_from_pep3118\u001b[0;34m(spec)\u001b[0m\n\u001b[1;32m    653\u001b[0m stream \u001b[38;5;241m=\u001b[39m _Stream(spec)\n\u001b[0;32m--> 654\u001b[0m dtype, align \u001b[38;5;241m=\u001b[39m __dtype_from_pep3118(stream, is_subdtype\u001b[38;5;241m=\u001b[39m\u001b[38;5;28;01mFalse\u001b[39;00m)\n\u001b[1;32m    655\u001b[0m \u001b[38;5;28;01mreturn\u001b[39;00m dtype\n",
      "File \u001b[0;32m~/anaconda3/envs/auto_synth/lib/python3.11/site-packages/numpy/core/_internal.py:727\u001b[0m, in \u001b[0;36m__dtype_from_pep3118\u001b[0;34m(stream, is_subdtype)\u001b[0m\n\u001b[1;32m    726\u001b[0m     desc \u001b[38;5;241m=\u001b[39m _pep3118_unsupported_map[stream\u001b[38;5;241m.\u001b[39mnext]\n\u001b[0;32m--> 727\u001b[0m     \u001b[38;5;28;01mraise\u001b[39;00m \u001b[38;5;167;01mNotImplementedError\u001b[39;00m(\n\u001b[1;32m    728\u001b[0m         \u001b[38;5;124m\"\u001b[39m\u001b[38;5;124mUnrepresentable PEP 3118 data type \u001b[39m\u001b[38;5;132;01m{!r}\u001b[39;00m\u001b[38;5;124m (\u001b[39m\u001b[38;5;132;01m{}\u001b[39;00m\u001b[38;5;124m)\u001b[39m\u001b[38;5;124m\"\u001b[39m\n\u001b[1;32m    729\u001b[0m         \u001b[38;5;241m.\u001b[39mformat(stream\u001b[38;5;241m.\u001b[39mnext, desc))\n\u001b[1;32m    730\u001b[0m \u001b[38;5;28;01melse\u001b[39;00m:\n",
      "\u001b[0;31mNotImplementedError\u001b[0m: Unrepresentable PEP 3118 data type '&' (pointers)",
      "\nThe above exception was the direct cause of the following exception:\n",
      "\u001b[0;31mValueError\u001b[0m                                Traceback (most recent call last)",
      "Cell \u001b[0;32mIn[22], line 2\u001b[0m\n\u001b[1;32m      1\u001b[0m fname \u001b[38;5;241m=\u001b[39m \u001b[38;5;124m'\u001b[39m\u001b[38;5;124mWSe_Structures/2X_1T_uc.lmp\u001b[39m\u001b[38;5;124m'\u001b[39m\n\u001b[0;32m----> 2\u001b[0m bispec_descr, _ \u001b[38;5;241m=\u001b[39m SNAP(lmp_struc\u001b[38;5;241m=\u001b[39mfname, cutfac\u001b[38;5;241m=\u001b[39m\u001b[38;5;241m1\u001b[39m, rfrac0\u001b[38;5;241m=\u001b[39m\u001b[38;5;241m0.5\u001b[39m, twojmax\u001b[38;5;241m=\u001b[39m\u001b[38;5;241m8\u001b[39m, R\u001b[38;5;241m=\u001b[39m[\u001b[38;5;241m5\u001b[39m,\u001b[38;5;241m5\u001b[39m], w\u001b[38;5;241m=\u001b[39m[\u001b[38;5;241m1\u001b[39m,\u001b[38;5;241m1\u001b[39m])\n",
      "Cell \u001b[0;32mIn[21], line 75\u001b[0m, in \u001b[0;36mSNAP\u001b[0;34m(lmp_struc, cutfac, rfrac0, twojmax, R, w)\u001b[0m\n\u001b[1;32m     72\u001b[0m \u001b[38;5;28;01melif\u001b[39;00m twojmax\u001b[38;5;241m==\u001b[39m\u001b[38;5;241m6\u001b[39m:\n\u001b[1;32m     73\u001b[0m     snap_shape \u001b[38;5;241m=\u001b[39m (Natoms, \u001b[38;5;241m30\u001b[39m)\n\u001b[0;32m---> 75\u001b[0m BiSpec \u001b[38;5;241m=\u001b[39m np\u001b[38;5;241m.\u001b[39mctypeslib\u001b[38;5;241m.\u001b[39mas_array(lmp\u001b[38;5;241m.\u001b[39mextract_compute(\u001b[38;5;124m'\u001b[39m\u001b[38;5;124mBiSpec\u001b[39m\u001b[38;5;124m'\u001b[39m, LMP_STYLE_ATOM, LMP_TYPE_ARRAY), shape\u001b[38;5;241m=\u001b[39msnap_shape)\n\u001b[1;32m     76\u001b[0m t \u001b[38;5;241m=\u001b[39m lmp\u001b[38;5;241m.\u001b[39mgather_atoms(\u001b[38;5;124m'\u001b[39m\u001b[38;5;124mtype\u001b[39m\u001b[38;5;124m'\u001b[39m,\u001b[38;5;241m0\u001b[39m,\u001b[38;5;241m1\u001b[39m)\n\u001b[1;32m     77\u001b[0m types \u001b[38;5;241m=\u001b[39m np\u001b[38;5;241m.\u001b[39mctypeslib\u001b[38;5;241m.\u001b[39mas_array(t)\n",
      "File \u001b[0;32m~/anaconda3/envs/auto_synth/lib/python3.11/site-packages/numpy/ctypeslib.py:524\u001b[0m, in \u001b[0;36mas_array\u001b[0;34m(obj, shape)\u001b[0m\n\u001b[1;32m    521\u001b[0m     p_arr_type \u001b[38;5;241m=\u001b[39m ctypes\u001b[38;5;241m.\u001b[39mPOINTER(_ctype_ndarray(obj\u001b[38;5;241m.\u001b[39m_type_, shape))\n\u001b[1;32m    522\u001b[0m     obj \u001b[38;5;241m=\u001b[39m ctypes\u001b[38;5;241m.\u001b[39mcast(obj, p_arr_type)\u001b[38;5;241m.\u001b[39mcontents\n\u001b[0;32m--> 524\u001b[0m \u001b[38;5;28;01mreturn\u001b[39;00m asarray(obj)\n",
      "\u001b[0;31mValueError\u001b[0m: '&<d' is not a valid PEP 3118 buffer format string"
     ]
    }
   ],
   "source": [
    "fname = 'WSe_Structures/2X_1T_uc.lmp'\n",
    "bispec_descr, _ = SNAP(lmp_struc=fname, cutfac=1, rfrac0=0.5, twojmax=8, R=[5,5], w=[1,1])"
   ]
  },
  {
   "cell_type": "code",
   "execution_count": 14,
   "metadata": {},
   "outputs": [
    {
     "ename": "TypeError",
     "evalue": "as_array() requires a shape argument when called on a pointer",
     "output_type": "error",
     "traceback": [
      "\u001b[0;31m---------------------------------------------------------------------------\u001b[0m",
      "\u001b[0;31mTypeError\u001b[0m                                 Traceback (most recent call last)",
      "Cell \u001b[0;32mIn[14], line 2\u001b[0m\n\u001b[1;32m      1\u001b[0m fname \u001b[38;5;241m=\u001b[39m \u001b[38;5;124m'\u001b[39m\u001b[38;5;124mWSe_Structures/1600000_2X_1T_1500K_scale.lmp\u001b[39m\u001b[38;5;124m'\u001b[39m\n\u001b[0;32m----> 2\u001b[0m bispec_descr_1, _ \u001b[38;5;241m=\u001b[39m SNAP(lmp_struc\u001b[38;5;241m=\u001b[39mfname, cutfac\u001b[38;5;241m=\u001b[39m\u001b[38;5;241m1\u001b[39m, rfrac0\u001b[38;5;241m=\u001b[39m\u001b[38;5;241m0.5\u001b[39m, twojmax\u001b[38;5;241m=\u001b[39m\u001b[38;5;241m8\u001b[39m, R\u001b[38;5;241m=\u001b[39m[\u001b[38;5;241m5\u001b[39m,\u001b[38;5;241m5\u001b[39m], w\u001b[38;5;241m=\u001b[39m[\u001b[38;5;241m1\u001b[39m,\u001b[38;5;241m1\u001b[39m])\n",
      "Cell \u001b[0;32mIn[12], line 66\u001b[0m, in \u001b[0;36mSNAP\u001b[0;34m(lmp_struc, cutfac, rfrac0, twojmax, R, w)\u001b[0m\n\u001b[1;32m     63\u001b[0m \u001b[38;5;28;01mexcept\u001b[39;00m \u001b[38;5;167;01mException\u001b[39;00m \u001b[38;5;28;01mas\u001b[39;00m e:\n\u001b[1;32m     64\u001b[0m     \u001b[38;5;28;01mraise\u001b[39;00m \u001b[38;5;167;01mRuntimeError\u001b[39;00m(\u001b[38;5;124mf\u001b[39m\u001b[38;5;124m'\u001b[39m\u001b[38;5;124mLAMMPS: \u001b[39m\u001b[38;5;132;01m{\u001b[39;00me\u001b[38;5;132;01m}\u001b[39;00m\u001b[38;5;130;01m\\n\u001b[39;00m\u001b[38;5;124m'\u001b[39m)\n\u001b[0;32m---> 66\u001b[0m BiSpec \u001b[38;5;241m=\u001b[39m np\u001b[38;5;241m.\u001b[39mctypeslib\u001b[38;5;241m.\u001b[39mas_array(lmp\u001b[38;5;241m.\u001b[39mextract_compute(\u001b[38;5;124m'\u001b[39m\u001b[38;5;124mBiSpec\u001b[39m\u001b[38;5;124m'\u001b[39m, LMP_STYLE_ATOM, LMP_TYPE_ARRAY))\n\u001b[1;32m     67\u001b[0m t \u001b[38;5;241m=\u001b[39m lmp\u001b[38;5;241m.\u001b[39mgather_atoms(\u001b[38;5;124m'\u001b[39m\u001b[38;5;124mtype\u001b[39m\u001b[38;5;124m'\u001b[39m,\u001b[38;5;241m0\u001b[39m,\u001b[38;5;241m1\u001b[39m)\n\u001b[1;32m     68\u001b[0m types \u001b[38;5;241m=\u001b[39m np\u001b[38;5;241m.\u001b[39mctypeslib\u001b[38;5;241m.\u001b[39mas_array(t)\n",
      "File \u001b[0;32m~/anaconda3/envs/auto_synth/lib/python3.11/site-packages/numpy/ctypeslib.py:518\u001b[0m, in \u001b[0;36mas_array\u001b[0;34m(obj, shape)\u001b[0m\n\u001b[1;32m    515\u001b[0m \u001b[38;5;28;01mif\u001b[39;00m \u001b[38;5;28misinstance\u001b[39m(obj, ctypes\u001b[38;5;241m.\u001b[39m_Pointer):\n\u001b[1;32m    516\u001b[0m     \u001b[38;5;66;03m# convert pointers to an array of the desired shape\u001b[39;00m\n\u001b[1;32m    517\u001b[0m     \u001b[38;5;28;01mif\u001b[39;00m shape \u001b[38;5;129;01mis\u001b[39;00m \u001b[38;5;28;01mNone\u001b[39;00m:\n\u001b[0;32m--> 518\u001b[0m         \u001b[38;5;28;01mraise\u001b[39;00m \u001b[38;5;167;01mTypeError\u001b[39;00m(\n\u001b[1;32m    519\u001b[0m             \u001b[38;5;124m'\u001b[39m\u001b[38;5;124mas_array() requires a shape argument when called on a \u001b[39m\u001b[38;5;124m'\u001b[39m\n\u001b[1;32m    520\u001b[0m             \u001b[38;5;124m'\u001b[39m\u001b[38;5;124mpointer\u001b[39m\u001b[38;5;124m'\u001b[39m)\n\u001b[1;32m    521\u001b[0m     p_arr_type \u001b[38;5;241m=\u001b[39m ctypes\u001b[38;5;241m.\u001b[39mPOINTER(_ctype_ndarray(obj\u001b[38;5;241m.\u001b[39m_type_, shape))\n\u001b[1;32m    522\u001b[0m     obj \u001b[38;5;241m=\u001b[39m ctypes\u001b[38;5;241m.\u001b[39mcast(obj, p_arr_type)\u001b[38;5;241m.\u001b[39mcontents\n",
      "\u001b[0;31mTypeError\u001b[0m: as_array() requires a shape argument when called on a pointer"
     ]
    }
   ],
   "source": [
    "fname = 'WSe_Structures/1600000_2X_1T_1500K_scale.lmp'\n",
    "bispec_descr_1, _ = SNAP(lmp_struc=fname, cutfac=1, rfrac0=0.5, twojmax=8, R=[5,5], w=[1,1])"
   ]
  },
  {
   "cell_type": "code",
   "execution_count": 3,
   "metadata": {},
   "outputs": [],
   "source": [
    "fname = 'WSe_Structures/2X_2H_uc.lmp'\n",
    "bispec_descr_2, _ = SNAP(lmp_struc=fname, cutfac=1, rfrac0=0.5, twojmax=8, R=[5,5], w=[1,1])"
   ]
  },
  {
   "cell_type": "code",
   "execution_count": null,
   "metadata": {},
   "outputs": [],
   "source": [
    "fname = 'WSe_Structures/1600000_2X_1T_1500K_scale1.0476.lmp'\n",
    "bispec_descr_3, _ = SNAP(lmp_struc=fname, cutfac=1, rfrac0=0.5, twojmax=8, R=[5,5], w=[1,1])"
   ]
  },
  {
   "cell_type": "code",
   "execution_count": null,
   "metadata": {},
   "outputs": [],
   "source": [
    "fname = 'WSe_Structures/1600000_2X_2H_1500K_scale1.0476.lmp'\n",
    "bispec_descr_4, _ = SNAP(lmp_struc=fname, cutfac=1, rfrac0=0.5, twojmax=8, R=[5,5], w=[1,1])"
   ]
  },
  {
   "cell_type": "code",
   "execution_count": null,
   "metadata": {},
   "outputs": [],
   "source": [
    "import matplotlib.pyplot as plt\n",
    "plt.semilogy(bispec_descr_1.mean(axis=0), label='1T_1500')\n",
    "plt.semilogy(bispec_descr.mean(axis=0), label='1T_pr')\n",
    "plt.semilogy(bispec_descr_3.mean(axis=0), label='1T_1500_strain')\n",
    "plt.semilogy(bispec_descr_2.mean(axis=0), label='2H_pr')\n",
    "plt.semilogy(bispec_descr_4.mean(axis=0), label='2H_1500_strain')\n",
    "plt.ylim(1e3, 1e5)\n",
    "plt.xlim(0, 10)\n",
    "plt.legend()"
   ]
  },
  {
   "cell_type": "code",
   "execution_count": null,
   "metadata": {},
   "outputs": [],
   "source": [
    "bispec_descr_4"
   ]
  },
  {
   "cell_type": "code",
   "execution_count": null,
   "metadata": {},
   "outputs": [],
   "source": [
    "import numpy as np\n",
    "import lammps\n",
    "from lammps import LMP_STYLE_ATOM, LMP_TYPE_ARRAY\n",
    "from sklearn.decomposition import PCA\n",
    "from sklearn.preprocessing import StandardScaler\n",
    "\n",
    "import matplotlib.pyplot as plt\n",
    "\n",
    "# --- Cell 0: Define functions ---\n",
    "\n",
    "def SNAP(lmp_struc, cutfac, rfrac0, twojmax, R, w):\n",
    "\t'''\n",
    "\tHyperparameters:\n",
    "\t  cutfac: scale factor applied to all cutoff radii (float),\n",
    "\t  rfrac0: parameter in distance-to-angle conversion (float),\n",
    "\t  twojmax: band limit for bispectrum components (int),\n",
    "\t  R: list of cutoff radii (list),\n",
    "\t  w: list of neighbor weights (list)\n",
    "\t  \n",
    "\tReturns\n",
    "\t  BiSpec: Bispectrum components for each atom (numpy.ndarray)\n",
    "\t'''\n",
    "\tlmp = lammps.lammps(cmdargs=['-sc','.lammps_output.txt', '-l', 'None'])\n",
    "\t\n",
    "\tR_max = max(R)\n",
    "\tR = ' '.join(map(str, R))\n",
    "\tw = ' '.join(map(str, w))\n",
    "\t\n",
    "\tdoctring = f\"\"\"\n",
    "\t#LAMMPS input file\n",
    "\t# ------------------------ INITIALIZATION ----------------------------\n",
    "\tprocessors    * * *\n",
    "\tunits         metal\n",
    "\tdimension    3\n",
    "\tboundary    p    p    p\n",
    "\tatom_style   atomic\n",
    "\tbox tilt large\n",
    "\t#--------------------------- LAMMPS Data File -------------------------\n",
    "\tread_data     {lmp_struc}\n",
    "\tmass * 1.0\n",
    "\t#--------------------------- DUMMY FORCE_FIELD -------------------------\n",
    "\tpair_style      zero {cutfac*R_max*2}\n",
    "\tpair_coeff      * *  \n",
    "\t\"\"\"\n",
    "\ttry:\n",
    "\t\tlmp.commands_string(doctring)\n",
    "\texcept Exception as e:\n",
    "\t\traise RuntimeError(f'LAMMPS: {e}\\n')\n",
    "\n",
    "\tlmp.command(f'compute BiSpec all sna/atom {cutfac} {rfrac0} {twojmax} {R} {w}')\n",
    "\t\n",
    "\ttry:\n",
    "\t\tlmp.command('run 0')\n",
    "\texcept Exception as e:\n",
    "\t\traise RuntimeError(f'LAMMPS: {e}\\n')\n",
    "\n",
    "\tBiSpec = lmp.extract_compute('BiSpec', LMP_STYLE_ATOM, LMP_TYPE_ARRAY)\n",
    "\tt = lmp.gather_atoms('type', 0, 1)\n",
    "\ttypes = np.ctypeslib.as_array(t)\n",
    "\t\n",
    "\tlmp.close()\n",
    "\t\n",
    "\treturn BiSpec, types\n",
    "\n",
    "\n",
    "def lammps_minimizer(lmp_struc):\n",
    "\tlmp = lammps.lammps(cmdargs=['-sc','.lammps_output.txt'])\n",
    "\t\n",
    "\tdoctring = f\"\"\"\n",
    "\t\t#LAMMPS input file\n",
    "\t\t# ------------------------ INITIALIZATION ----------------------------\n",
    "\t\tprocessors    * * *\n",
    "\t\tunits         real\n",
    "\t\tdimension    3\n",
    "\t\tboundary    p    p    p\n",
    "\t\tatom_style   charge\n",
    "\t\tbox tilt large\n",
    "\t\t#--------------------------- LAMMPS Data File -------------------------\n",
    "\t\tread_data     {lmp_struc}\n",
    "\t\tmass * 1.0\n",
    "\t\t#--------------------------- Reax FORCE_FIELD -------------------------\n",
    "\t\tpair_style reax/c NULL safezone 16.0 mincap 2400\n",
    "\t\tpair_coeff * * ffield_start Mo S\n",
    "\t\tfix 1 all qeq/reax 1 0.0 10.0 1.0e-6 reax/c\n",
    "\t\t\"\"\"\n",
    "\ttry:\n",
    "\t\tlmp.commands_string(doctring)\n",
    "\texcept Exception as e:\n",
    "\t\traise RuntimeError(f'LAMMPS: {e}\\n')\n",
    "\n",
    "\tlmp.command('minimize 1e-5 1e-4 10000 10000')\n",
    "\tlmp.command(f'write_data min_{lmp_struc}')\n",
    "\tpe = lmp.get_thermo(\"pe\")\n",
    "\tlmp.close()\n",
    "\n",
    "\treturn pe\n",
    "\n",
    "import sys\n",
    "figure_name = sys.argv[1]\n",
    "# --- Cell 1: Compute bispectrum descriptors for the first structure ---\n",
    "fname = 'WSe_Structures/2X_1T_uc.lmp'\n",
    "bispec_descr, _ = SNAP(lmp_struc=fname, cutfac=1, rfrac0=0.5, twojmax=8, R=[5, 5], w=[1, 1])\n",
    "\n",
    "# --- Cell 2: Compute bispectrum descriptors for the second structure ---\n",
    "fname = 'WSe_Structures/1600000_2X_1T_1500K_scale.lmp'\n",
    "bispec_descr_1, _ = SNAP(lmp_struc=fname, cutfac=1, rfrac0=0.5, twojmax=8, R=[5, 5], w=[1, 1])\n",
    "\n",
    "# --- Cell 3: Compute bispectrum descriptors for the third structure ---\n",
    "fname = 'WSe_Structures/2X_2H_uc.lmp'\n",
    "bispec_descr_2, _ = SNAP(lmp_struc=fname, cutfac=1, rfrac0=0.5, twojmax=8, R=[5, 5], w=[1, 1])\n",
    "\n",
    "# --- Cell 4: Compute bispectrum descriptors for the fourth structure ---\n",
    "fname = 'WSe_Structures/1600000_2X_1T_1500K_scale1.0476.lmp'\n",
    "bispec_descr_3, _ = SNAP(lmp_struc=fname, cutfac=1, rfrac0=0.5, twojmax=8, R=[5, 5], w=[1, 1])\n",
    "\n",
    "# --- Cell 5: Compute bispectrum descriptors for the fifth structure ---\n",
    "fname = 'WSe_Structures/1600000_2X_2H_1500K_scale1.0476.lmp'\n",
    "bispec_descr_4, _ = SNAP(lmp_struc=fname, cutfac=1, rfrac0=0.5, twojmax=8, R=[5, 5], w=[1, 1])\n",
    "\n",
    "# --- New Cell at index 7: (currently empty, reserved for additional code) ---\n",
    "\n",
    "\n",
    "# --- Cell 6 (and/or Cell 8): Plotting the averaged bispectrum descriptor data ---\n",
    "plt.semilogy(bispec_descr_1.mean(axis=0), label='1T_1500')\n",
    "plt.semilogy(bispec_descr.mean(axis=0), label='1T_pr')\n",
    "plt.semilogy(bispec_descr_3.mean(axis=0), label='1T_1500_strain')\n",
    "plt.semilogy(bispec_descr_2.mean(axis=0), label='2H_pr')\n",
    "plt.semilogy(bispec_descr_4.mean(axis=0), label='2H_1500_strain')\n",
    "plt.ylim(1e3, 1e5)\n",
    "plt.xlim(0, 10)\n",
    "plt.legend()\n",
    "plt.savefig(f'{figure_name}.png')\n",
    "\n",
    "\n",
    "\n"
   ]
  },
  {
   "cell_type": "code",
   "execution_count": 8,
   "metadata": {},
   "outputs": [],
   "source": [
    "def compute_decriptor_PCA(data, num_PC=3):\n",
    "\t\"\"\"\n",
    "\tReduces descriptor dimensions by first standardizing the data and then applying PCA.\n",
    "\t\n",
    "\tReturns\n",
    "\t-------\n",
    "\tx: Principal components\n",
    "\tvariances: Explained variance ratio of the principal components.\n",
    "\t\"\"\"\n",
    "\tfrom sklearn.decomposition import PCA\n",
    "\tfrom sklearn.preprocessing import StandardScaler\n",
    "\tscaling = StandardScaler()\n",
    "\tscaling.fit(data)\n",
    "\tScaled_data = scaling.transform(data)\n",
    "\tprincipal = PCA(n_components=num_PC)\n",
    "\tprincipal.fit(Scaled_data)\n",
    "\tx = principal.transform(Scaled_data)\n",
    "\tvariances = principal.explained_variance_ratio_\n",
    "\treturn x, variances\n",
    "\n"
   ]
  },
  {
   "cell_type": "code",
   "execution_count": 9,
   "metadata": {},
   "outputs": [
    {
     "name": "stderr",
     "output_type": "stream",
     "text": [
      "/Users/sny/anaconda3/envs/auto_synth/lib/python3.11/site-packages/sklearn/utils/extmath.py:1120: RuntimeWarning: overflow encountered in square\n",
      "  temp **= 2\n",
      "/Users/sny/anaconda3/envs/auto_synth/lib/python3.11/site-packages/sklearn/utils/extmath.py:1126: RuntimeWarning: overflow encountered in square\n",
      "  new_unnormalized_variance -= correction**2 / new_sample_count\n",
      "/Users/sny/anaconda3/envs/auto_synth/lib/python3.11/site-packages/sklearn/utils/extmath.py:1126: RuntimeWarning: invalid value encountered in subtract\n",
      "  new_unnormalized_variance -= correction**2 / new_sample_count\n",
      "/Users/sny/anaconda3/envs/auto_synth/lib/python3.11/site-packages/sklearn/preprocessing/_data.py:81: RuntimeWarning: overflow encountered in square\n",
      "  upper_bound = n_samples * eps * var + (n_samples * mean * eps) ** 2\n"
     ]
    },
    {
     "ename": "ValueError",
     "evalue": "Input X contains NaN.\nPCA does not accept missing values encoded as NaN natively. For supervised learning, you might want to consider sklearn.ensemble.HistGradientBoostingClassifier and Regressor which accept missing values encoded as NaNs natively. Alternatively, it is possible to preprocess the data, for instance by using an imputer transformer in a pipeline or drop samples with missing values. See https://scikit-learn.org/stable/modules/impute.html You can find a list of all estimators that handle NaN values at the following page: https://scikit-learn.org/stable/modules/impute.html#estimators-that-handle-nan-values",
     "output_type": "error",
     "traceback": [
      "\u001b[0;31m---------------------------------------------------------------------------\u001b[0m",
      "\u001b[0;31mValueError\u001b[0m                                Traceback (most recent call last)",
      "Cell \u001b[0;32mIn[9], line 2\u001b[0m\n\u001b[1;32m      1\u001b[0m bispec_2_pca \u001b[38;5;241m=\u001b[39m compute_decriptor_PCA(bispec_descr_2, num_PC\u001b[38;5;241m=\u001b[39m\u001b[38;5;241m3\u001b[39m)\n\u001b[0;32m----> 2\u001b[0m bispec_pca \u001b[38;5;241m=\u001b[39m compute_decriptor_PCA(bispec_descr, num_PC\u001b[38;5;241m=\u001b[39m\u001b[38;5;241m3\u001b[39m)\n",
      "Cell \u001b[0;32mIn[8], line 16\u001b[0m, in \u001b[0;36mcompute_decriptor_PCA\u001b[0;34m(data, num_PC)\u001b[0m\n\u001b[1;32m     14\u001b[0m Scaled_data \u001b[38;5;241m=\u001b[39m scaling\u001b[38;5;241m.\u001b[39mtransform(data)\n\u001b[1;32m     15\u001b[0m principal \u001b[38;5;241m=\u001b[39m PCA(n_components\u001b[38;5;241m=\u001b[39mnum_PC)\n\u001b[0;32m---> 16\u001b[0m principal\u001b[38;5;241m.\u001b[39mfit(Scaled_data)\n\u001b[1;32m     17\u001b[0m x \u001b[38;5;241m=\u001b[39m principal\u001b[38;5;241m.\u001b[39mtransform(Scaled_data)\n\u001b[1;32m     18\u001b[0m variances \u001b[38;5;241m=\u001b[39m principal\u001b[38;5;241m.\u001b[39mexplained_variance_ratio_\n",
      "File \u001b[0;32m~/anaconda3/envs/auto_synth/lib/python3.11/site-packages/sklearn/base.py:1389\u001b[0m, in \u001b[0;36m_fit_context.<locals>.decorator.<locals>.wrapper\u001b[0;34m(estimator, *args, **kwargs)\u001b[0m\n\u001b[1;32m   1382\u001b[0m     estimator\u001b[38;5;241m.\u001b[39m_validate_params()\n\u001b[1;32m   1384\u001b[0m \u001b[38;5;28;01mwith\u001b[39;00m config_context(\n\u001b[1;32m   1385\u001b[0m     skip_parameter_validation\u001b[38;5;241m=\u001b[39m(\n\u001b[1;32m   1386\u001b[0m         prefer_skip_nested_validation \u001b[38;5;129;01mor\u001b[39;00m global_skip_validation\n\u001b[1;32m   1387\u001b[0m     )\n\u001b[1;32m   1388\u001b[0m ):\n\u001b[0;32m-> 1389\u001b[0m     \u001b[38;5;28;01mreturn\u001b[39;00m fit_method(estimator, \u001b[38;5;241m*\u001b[39margs, \u001b[38;5;241m*\u001b[39m\u001b[38;5;241m*\u001b[39mkwargs)\n",
      "File \u001b[0;32m~/anaconda3/envs/auto_synth/lib/python3.11/site-packages/sklearn/decomposition/_pca.py:442\u001b[0m, in \u001b[0;36mPCA.fit\u001b[0;34m(self, X, y)\u001b[0m\n\u001b[1;32m    424\u001b[0m \u001b[38;5;129m@_fit_context\u001b[39m(prefer_skip_nested_validation\u001b[38;5;241m=\u001b[39m\u001b[38;5;28;01mTrue\u001b[39;00m)\n\u001b[1;32m    425\u001b[0m \u001b[38;5;28;01mdef\u001b[39;00m \u001b[38;5;21mfit\u001b[39m(\u001b[38;5;28mself\u001b[39m, X, y\u001b[38;5;241m=\u001b[39m\u001b[38;5;28;01mNone\u001b[39;00m):\n\u001b[1;32m    426\u001b[0m \u001b[38;5;250m    \u001b[39m\u001b[38;5;124;03m\"\"\"Fit the model with X.\u001b[39;00m\n\u001b[1;32m    427\u001b[0m \n\u001b[1;32m    428\u001b[0m \u001b[38;5;124;03m    Parameters\u001b[39;00m\n\u001b[0;32m   (...)\u001b[0m\n\u001b[1;32m    440\u001b[0m \u001b[38;5;124;03m        Returns the instance itself.\u001b[39;00m\n\u001b[1;32m    441\u001b[0m \u001b[38;5;124;03m    \"\"\"\u001b[39;00m\n\u001b[0;32m--> 442\u001b[0m     \u001b[38;5;28mself\u001b[39m\u001b[38;5;241m.\u001b[39m_fit(X)\n\u001b[1;32m    443\u001b[0m     \u001b[38;5;28;01mreturn\u001b[39;00m \u001b[38;5;28mself\u001b[39m\n",
      "File \u001b[0;32m~/anaconda3/envs/auto_synth/lib/python3.11/site-packages/sklearn/decomposition/_pca.py:505\u001b[0m, in \u001b[0;36mPCA._fit\u001b[0;34m(self, X)\u001b[0m\n\u001b[1;32m    495\u001b[0m     \u001b[38;5;28;01mraise\u001b[39;00m \u001b[38;5;167;01mValueError\u001b[39;00m(\n\u001b[1;32m    496\u001b[0m         \u001b[38;5;124m\"\u001b[39m\u001b[38;5;124mPCA with svd_solver=\u001b[39m\u001b[38;5;124m'\u001b[39m\u001b[38;5;124marpack\u001b[39m\u001b[38;5;124m'\u001b[39m\u001b[38;5;124m is not supported for Array API inputs.\u001b[39m\u001b[38;5;124m\"\u001b[39m\n\u001b[1;32m    497\u001b[0m     )\n\u001b[1;32m    499\u001b[0m \u001b[38;5;66;03m# Validate the data, without ever forcing a copy as any solver that\u001b[39;00m\n\u001b[1;32m    500\u001b[0m \u001b[38;5;66;03m# supports sparse input data and the `covariance_eigh` solver are\u001b[39;00m\n\u001b[1;32m    501\u001b[0m \u001b[38;5;66;03m# written in a way to avoid the need for any inplace modification of\u001b[39;00m\n\u001b[1;32m    502\u001b[0m \u001b[38;5;66;03m# the input data contrary to the other solvers.\u001b[39;00m\n\u001b[1;32m    503\u001b[0m \u001b[38;5;66;03m# The copy will happen\u001b[39;00m\n\u001b[1;32m    504\u001b[0m \u001b[38;5;66;03m# later, only if needed, once the solver negotiation below is done.\u001b[39;00m\n\u001b[0;32m--> 505\u001b[0m X \u001b[38;5;241m=\u001b[39m validate_data(\n\u001b[1;32m    506\u001b[0m     \u001b[38;5;28mself\u001b[39m,\n\u001b[1;32m    507\u001b[0m     X,\n\u001b[1;32m    508\u001b[0m     dtype\u001b[38;5;241m=\u001b[39m[xp\u001b[38;5;241m.\u001b[39mfloat64, xp\u001b[38;5;241m.\u001b[39mfloat32],\n\u001b[1;32m    509\u001b[0m     force_writeable\u001b[38;5;241m=\u001b[39m\u001b[38;5;28;01mTrue\u001b[39;00m,\n\u001b[1;32m    510\u001b[0m     accept_sparse\u001b[38;5;241m=\u001b[39m(\u001b[38;5;124m\"\u001b[39m\u001b[38;5;124mcsr\u001b[39m\u001b[38;5;124m\"\u001b[39m, \u001b[38;5;124m\"\u001b[39m\u001b[38;5;124mcsc\u001b[39m\u001b[38;5;124m\"\u001b[39m),\n\u001b[1;32m    511\u001b[0m     ensure_2d\u001b[38;5;241m=\u001b[39m\u001b[38;5;28;01mTrue\u001b[39;00m,\n\u001b[1;32m    512\u001b[0m     copy\u001b[38;5;241m=\u001b[39m\u001b[38;5;28;01mFalse\u001b[39;00m,\n\u001b[1;32m    513\u001b[0m )\n\u001b[1;32m    514\u001b[0m \u001b[38;5;28mself\u001b[39m\u001b[38;5;241m.\u001b[39m_fit_svd_solver \u001b[38;5;241m=\u001b[39m \u001b[38;5;28mself\u001b[39m\u001b[38;5;241m.\u001b[39msvd_solver\n\u001b[1;32m    515\u001b[0m \u001b[38;5;28;01mif\u001b[39;00m \u001b[38;5;28mself\u001b[39m\u001b[38;5;241m.\u001b[39m_fit_svd_solver \u001b[38;5;241m==\u001b[39m \u001b[38;5;124m\"\u001b[39m\u001b[38;5;124mauto\u001b[39m\u001b[38;5;124m\"\u001b[39m \u001b[38;5;129;01mand\u001b[39;00m issparse(X):\n",
      "File \u001b[0;32m~/anaconda3/envs/auto_synth/lib/python3.11/site-packages/sklearn/utils/validation.py:2944\u001b[0m, in \u001b[0;36mvalidate_data\u001b[0;34m(_estimator, X, y, reset, validate_separately, skip_check_array, **check_params)\u001b[0m\n\u001b[1;32m   2942\u001b[0m         out \u001b[38;5;241m=\u001b[39m X, y\n\u001b[1;32m   2943\u001b[0m \u001b[38;5;28;01melif\u001b[39;00m \u001b[38;5;129;01mnot\u001b[39;00m no_val_X \u001b[38;5;129;01mand\u001b[39;00m no_val_y:\n\u001b[0;32m-> 2944\u001b[0m     out \u001b[38;5;241m=\u001b[39m check_array(X, input_name\u001b[38;5;241m=\u001b[39m\u001b[38;5;124m\"\u001b[39m\u001b[38;5;124mX\u001b[39m\u001b[38;5;124m\"\u001b[39m, \u001b[38;5;241m*\u001b[39m\u001b[38;5;241m*\u001b[39mcheck_params)\n\u001b[1;32m   2945\u001b[0m \u001b[38;5;28;01melif\u001b[39;00m no_val_X \u001b[38;5;129;01mand\u001b[39;00m \u001b[38;5;129;01mnot\u001b[39;00m no_val_y:\n\u001b[1;32m   2946\u001b[0m     out \u001b[38;5;241m=\u001b[39m _check_y(y, \u001b[38;5;241m*\u001b[39m\u001b[38;5;241m*\u001b[39mcheck_params)\n",
      "File \u001b[0;32m~/anaconda3/envs/auto_synth/lib/python3.11/site-packages/sklearn/utils/validation.py:1107\u001b[0m, in \u001b[0;36mcheck_array\u001b[0;34m(array, accept_sparse, accept_large_sparse, dtype, order, copy, force_writeable, force_all_finite, ensure_all_finite, ensure_non_negative, ensure_2d, allow_nd, ensure_min_samples, ensure_min_features, estimator, input_name)\u001b[0m\n\u001b[1;32m   1101\u001b[0m     \u001b[38;5;28;01mraise\u001b[39;00m \u001b[38;5;167;01mValueError\u001b[39;00m(\n\u001b[1;32m   1102\u001b[0m         \u001b[38;5;124m\"\u001b[39m\u001b[38;5;124mFound array with dim \u001b[39m\u001b[38;5;132;01m%d\u001b[39;00m\u001b[38;5;124m. \u001b[39m\u001b[38;5;132;01m%s\u001b[39;00m\u001b[38;5;124m expected <= 2.\u001b[39m\u001b[38;5;124m\"\u001b[39m\n\u001b[1;32m   1103\u001b[0m         \u001b[38;5;241m%\u001b[39m (array\u001b[38;5;241m.\u001b[39mndim, estimator_name)\n\u001b[1;32m   1104\u001b[0m     )\n\u001b[1;32m   1106\u001b[0m \u001b[38;5;28;01mif\u001b[39;00m ensure_all_finite:\n\u001b[0;32m-> 1107\u001b[0m     _assert_all_finite(\n\u001b[1;32m   1108\u001b[0m         array,\n\u001b[1;32m   1109\u001b[0m         input_name\u001b[38;5;241m=\u001b[39minput_name,\n\u001b[1;32m   1110\u001b[0m         estimator_name\u001b[38;5;241m=\u001b[39mestimator_name,\n\u001b[1;32m   1111\u001b[0m         allow_nan\u001b[38;5;241m=\u001b[39mensure_all_finite \u001b[38;5;241m==\u001b[39m \u001b[38;5;124m\"\u001b[39m\u001b[38;5;124mallow-nan\u001b[39m\u001b[38;5;124m\"\u001b[39m,\n\u001b[1;32m   1112\u001b[0m     )\n\u001b[1;32m   1114\u001b[0m \u001b[38;5;28;01mif\u001b[39;00m copy:\n\u001b[1;32m   1115\u001b[0m     \u001b[38;5;28;01mif\u001b[39;00m _is_numpy_namespace(xp):\n\u001b[1;32m   1116\u001b[0m         \u001b[38;5;66;03m# only make a copy if `array` and `array_orig` may share memory`\u001b[39;00m\n",
      "File \u001b[0;32m~/anaconda3/envs/auto_synth/lib/python3.11/site-packages/sklearn/utils/validation.py:120\u001b[0m, in \u001b[0;36m_assert_all_finite\u001b[0;34m(X, allow_nan, msg_dtype, estimator_name, input_name)\u001b[0m\n\u001b[1;32m    117\u001b[0m \u001b[38;5;28;01mif\u001b[39;00m first_pass_isfinite:\n\u001b[1;32m    118\u001b[0m     \u001b[38;5;28;01mreturn\u001b[39;00m\n\u001b[0;32m--> 120\u001b[0m _assert_all_finite_element_wise(\n\u001b[1;32m    121\u001b[0m     X,\n\u001b[1;32m    122\u001b[0m     xp\u001b[38;5;241m=\u001b[39mxp,\n\u001b[1;32m    123\u001b[0m     allow_nan\u001b[38;5;241m=\u001b[39mallow_nan,\n\u001b[1;32m    124\u001b[0m     msg_dtype\u001b[38;5;241m=\u001b[39mmsg_dtype,\n\u001b[1;32m    125\u001b[0m     estimator_name\u001b[38;5;241m=\u001b[39mestimator_name,\n\u001b[1;32m    126\u001b[0m     input_name\u001b[38;5;241m=\u001b[39minput_name,\n\u001b[1;32m    127\u001b[0m )\n",
      "File \u001b[0;32m~/anaconda3/envs/auto_synth/lib/python3.11/site-packages/sklearn/utils/validation.py:169\u001b[0m, in \u001b[0;36m_assert_all_finite_element_wise\u001b[0;34m(X, xp, allow_nan, msg_dtype, estimator_name, input_name)\u001b[0m\n\u001b[1;32m    152\u001b[0m \u001b[38;5;28;01mif\u001b[39;00m estimator_name \u001b[38;5;129;01mand\u001b[39;00m input_name \u001b[38;5;241m==\u001b[39m \u001b[38;5;124m\"\u001b[39m\u001b[38;5;124mX\u001b[39m\u001b[38;5;124m\"\u001b[39m \u001b[38;5;129;01mand\u001b[39;00m has_nan_error:\n\u001b[1;32m    153\u001b[0m     \u001b[38;5;66;03m# Improve the error message on how to handle missing values in\u001b[39;00m\n\u001b[1;32m    154\u001b[0m     \u001b[38;5;66;03m# scikit-learn.\u001b[39;00m\n\u001b[1;32m    155\u001b[0m     msg_err \u001b[38;5;241m+\u001b[39m\u001b[38;5;241m=\u001b[39m (\n\u001b[1;32m    156\u001b[0m         \u001b[38;5;124mf\u001b[39m\u001b[38;5;124m\"\u001b[39m\u001b[38;5;130;01m\\n\u001b[39;00m\u001b[38;5;132;01m{\u001b[39;00mestimator_name\u001b[38;5;132;01m}\u001b[39;00m\u001b[38;5;124m does not accept missing values\u001b[39m\u001b[38;5;124m\"\u001b[39m\n\u001b[1;32m    157\u001b[0m         \u001b[38;5;124m\"\u001b[39m\u001b[38;5;124m encoded as NaN natively. For supervised learning, you might want\u001b[39m\u001b[38;5;124m\"\u001b[39m\n\u001b[0;32m   (...)\u001b[0m\n\u001b[1;32m    167\u001b[0m         \u001b[38;5;124m\"\u001b[39m\u001b[38;5;124m#estimators-that-handle-nan-values\u001b[39m\u001b[38;5;124m\"\u001b[39m\n\u001b[1;32m    168\u001b[0m     )\n\u001b[0;32m--> 169\u001b[0m \u001b[38;5;28;01mraise\u001b[39;00m \u001b[38;5;167;01mValueError\u001b[39;00m(msg_err)\n",
      "\u001b[0;31mValueError\u001b[0m: Input X contains NaN.\nPCA does not accept missing values encoded as NaN natively. For supervised learning, you might want to consider sklearn.ensemble.HistGradientBoostingClassifier and Regressor which accept missing values encoded as NaNs natively. Alternatively, it is possible to preprocess the data, for instance by using an imputer transformer in a pipeline or drop samples with missing values. See https://scikit-learn.org/stable/modules/impute.html You can find a list of all estimators that handle NaN values at the following page: https://scikit-learn.org/stable/modules/impute.html#estimators-that-handle-nan-values"
     ]
    }
   ],
   "source": [
    "bispec_2_pca = compute_decriptor_PCA(bispec_descr_2, num_PC=3)\n",
    "bispec_pca = compute_decriptor_PCA(bispec_descr, num_PC=3)"
   ]
  },
  {
   "cell_type": "code",
   "execution_count": null,
   "metadata": {},
   "outputs": [],
   "source": [
    "# plt.plot(bispec_2_pca[0][:,0], label='2H_pr')\n",
    "plt.plot(bispec_pca[0][:,0], label='1T_pr')\n",
    "plt.plot(bispec_pca[0][:,1], label='1T_pr')"
   ]
  },
  {
   "cell_type": "code",
   "execution_count": 10,
   "metadata": {},
   "outputs": [
    {
     "data": {
      "text/plain": [
       "array([[0.00000000e+000, 1.52320439e-320, 2.68277646e-321, ...,\n",
       "                    nan, 7.33948374e-296, 1.07034138e-296],\n",
       "       [            nan,             nan,             nan, ...,\n",
       "        4.45085393e-307, 2.70744993e-300,             nan],\n",
       "       [            nan,             nan, 7.26302497e-297, ...,\n",
       "        1.43349292e-298,             nan,             nan],\n",
       "       ...,\n",
       "       [1.98628350e-315, 0.00000000e+000, 0.00000000e+000, ...,\n",
       "        1.98632411e-315, 3.17805381e-314, 1.98628363e-315],\n",
       "       [0.00000000e+000, 0.00000000e+000, 3.17811859e-314, ...,\n",
       "        3.17805403e-314, 1.98628377e-315, 0.00000000e+000],\n",
       "       [0.00000000e+000, 3.17811881e-314, 1.98632425e-315, ...,\n",
       "        1.98628390e-315, 0.00000000e+000, 0.00000000e+000]])"
      ]
     },
     "execution_count": 10,
     "metadata": {},
     "output_type": "execute_result"
    }
   ],
   "source": [
    "bispec_descr"
   ]
  },
  {
   "cell_type": "code",
   "execution_count": 11,
   "metadata": {},
   "outputs": [
    {
     "data": {
      "text/plain": [
       "array([[ 9.95161384e+04,  8.27440615e+04,  3.47468970e+04, ...,\n",
       "        -6.67179101e-02, -1.52574091e+01, -6.14193871e+00],\n",
       "       [ 9.97210384e+04,  8.33258290e+04,  3.49698510e+04, ...,\n",
       "        -8.83756134e+00, -8.57578163e+00, -9.50516730e+00],\n",
       "       [ 9.97212143e+04,  8.33260053e+04,  3.49699332e+04, ...,\n",
       "        -8.83758756e+00, -8.57555358e+00, -9.50529632e+00],\n",
       "       ...,\n",
       "       [ 9.97216539e+04,  8.33265293e+04,  3.49702970e+04, ...,\n",
       "        -8.83727094e+00, -8.57583097e+00, -9.50524589e+00],\n",
       "       [ 9.97214993e+04,  8.33263597e+04,  3.49701903e+04, ...,\n",
       "        -8.83753633e+00, -8.57568286e+00, -9.50530443e+00],\n",
       "       [ 9.95158260e+04,  8.27436944e+04,  3.47466556e+04, ...,\n",
       "        -6.71418887e-02, -1.52571749e+01, -6.14205761e+00]])"
      ]
     },
     "execution_count": 11,
     "metadata": {},
     "output_type": "execute_result"
    }
   ],
   "source": [
    "bispec_descr_2"
   ]
  },
  {
   "cell_type": "code",
   "execution_count": 6,
   "metadata": {},
   "outputs": [
    {
     "ename": "NameError",
     "evalue": "name 'bispec_descr_1' is not defined",
     "output_type": "error",
     "traceback": [
      "\u001b[0;31m---------------------------------------------------------------------------\u001b[0m",
      "\u001b[0;31mNameError\u001b[0m                                 Traceback (most recent call last)",
      "Cell \u001b[0;32mIn[6], line 1\u001b[0m\n\u001b[0;32m----> 1\u001b[0m bispec_descr_1\n",
      "\u001b[0;31mNameError\u001b[0m: name 'bispec_descr_1' is not defined"
     ]
    }
   ],
   "source": [
    "bispec_descr_1"
   ]
  },
  {
   "cell_type": "code",
   "execution_count": null,
   "metadata": {},
   "outputs": [],
   "source": []
  }
 ],
 "metadata": {
  "kernelspec": {
   "display_name": "auto_synth",
   "language": "python",
   "name": "python3"
  },
  "language_info": {
   "codemirror_mode": {
    "name": "ipython",
    "version": 3
   },
   "file_extension": ".py",
   "mimetype": "text/x-python",
   "name": "python",
   "nbconvert_exporter": "python",
   "pygments_lexer": "ipython3",
   "version": "3.11.6"
  }
 },
 "nbformat": 4,
 "nbformat_minor": 2
}
